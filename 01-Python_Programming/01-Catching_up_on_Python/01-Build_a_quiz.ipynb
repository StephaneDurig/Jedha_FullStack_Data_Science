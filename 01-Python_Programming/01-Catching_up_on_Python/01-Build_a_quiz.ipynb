{
 "cells": [
  {
   "cell_type": "markdown",
   "metadata": {
    "colab_type": "text",
    "id": "FY347VxWs_bJ"
   },
   "source": [
    "# Build a quizz\n",
    "\n",
    "---\n",
    "\n",
    "\n"
   ]
  },
  {
   "cell_type": "markdown",
   "metadata": {
    "colab_type": "text",
    "id": "qJizpyqVwYnF"
   },
   "source": [
    "Let's tackle our first project together. Find a partner and start coding a quiz together! Your program should: \n",
    "\n",
    "1. Ask a question to a user via the console \n",
    "2. Verify whether the answer is correct or not \n",
    "3. If the answer is correct, you should print out: `Good job! This is the right answer`\n",
    "\n",
    "* Else, it should print out : `Too bad! that is not the correct answer`\n",
    "\n",
    "4. Ask three questions following this model.\n",
    "\n"
   ]
  },
  {
   "cell_type": "code",
   "execution_count": 26,
   "metadata": {},
   "outputs": [],
   "source": [
    "def quizz():\n",
    "    \n",
    "    print(\"Here you have our quiz !\")\n",
    "    print(\"-------\\n\")\n",
    "\n",
    "    quizz={\n",
    "        \"Quelle est la réponse à la grande question sur la vie, l'univers et le reste ?\" : 42,\n",
    "        \"Quelle est l'année de naissance de Ryan Reynolds ?\" : 1976,\n",
    "        \"Quel est le fondateur de la société Neuralink ?\" : \"elon musk\"\n",
    "        }\n",
    "    \n",
    "    for k,v in quizz.items():\n",
    "        try:\n",
    "            answer = input(k)\n",
    "            print(f\"Your answer : {answer}\")\n",
    "\n",
    "            answer = int(answer)\n",
    "    \n",
    "        except ValueError as e:\n",
    "            if isinstance(answer, str):\n",
    "                answer = answer.lower()\n",
    "                print(f\"Your answer after .lower() function : {answer}\")\n",
    "        finally:    \n",
    "            if answer == v:\n",
    "                print('Good job! This is the right answer')\n",
    "            else:\n",
    "                print('Too bad! that is not the correct answer')\n",
    "#        print(type(e).__name__)\n",
    "\n"
   ]
  },
  {
   "cell_type": "code",
   "execution_count": 27,
   "metadata": {},
   "outputs": [
    {
     "name": "stdout",
     "output_type": "stream",
     "text": [
      "Here you have our quiz !\n",
      "-------\n",
      "\n",
      "Your answer : \n",
      "Your answer after .lower() function : \n",
      "Too bad! that is not the correct answer\n",
      "Your answer : \n",
      "Your answer after .lower() function : \n",
      "Too bad! that is not the correct answer\n",
      "Your answer : \n",
      "Your answer after .lower() function : \n",
      "Too bad! that is not the correct answer\n"
     ]
    }
   ],
   "source": [
    "quizz()"
   ]
  },
  {
   "cell_type": "markdown",
   "metadata": {
    "colab_type": "text",
    "id": "sLMbYgaOyxiX"
   },
   "source": [
    "There's a problem with our quizz : if the user has not given the right answer, the program goes to next question. We would rather like to ask again the same question if the answer was wrong.\n",
    "\n",
    "5. Using a `while` loop, make sure that the same question will be asked again when the answer was wrong\n",
    "\n",
    "6. Rewrite your code such that this behaviour is applied to all questions."
   ]
  },
  {
   "cell_type": "code",
   "execution_count": 40,
   "metadata": {},
   "outputs": [],
   "source": [
    "def quizz():\n",
    "    \n",
    "    print(\"Here you have our quiz !\")\n",
    "    print(\"-------\")\n",
    "\n",
    "    quizz={\n",
    "        \"Quelle est la réponse à la grande question sur la vie, l'univers et le reste ?\" : 42,\n",
    "        \"Quelle est l'année de naissance de Ryan Reynolds ?\" : 1976,\n",
    "        \"Quel est le fondateur de la société Neuralink ?\" : \"elon musk\"\n",
    "        }\n",
    "    i = 1\n",
    "\n",
    "    for k,v in quizz.items(): \n",
    "            \n",
    "        print(f\"\\nQuestion {i}\")\n",
    "\n",
    "        answer = ''\n",
    "        while answer != v:\n",
    "            try:\n",
    "                answer = input(k)\n",
    "                print(f\"Your answer : {answer}\")\n",
    "\n",
    "                answer = int(answer)\n",
    "        \n",
    "            except ValueError as e:\n",
    "                if isinstance(answer, str):\n",
    "                    answer = answer.lower()\n",
    "\n",
    "            finally:    \n",
    "                if answer == v:\n",
    "                    print('Good job! This is the right answer')\n",
    "                else:\n",
    "                    print('Too bad! that is not the correct answer')\n",
    "        i += 1\n",
    "    \n",
    "    print(\"\\nWell done! You are the quiz winner!\")\n",
    "\n"
   ]
  },
  {
   "cell_type": "code",
   "execution_count": 41,
   "metadata": {
    "colab": {
     "base_uri": "https://localhost:8080/",
     "height": 170
    },
    "colab_type": "code",
    "id": "csyxqJzBxPfN",
    "outputId": "0e671bec-2b70-424e-f110-d4792423dd7a"
   },
   "outputs": [
    {
     "name": "stdout",
     "output_type": "stream",
     "text": [
      "Here you have our quiz !\n",
      "-------\n",
      "\n",
      "Question 1\n",
      "Your answer : 3\n",
      "Too bad! that is not the correct answer\n",
      "Your answer : 42\n",
      "Good job! This is the right answer\n",
      "\n",
      "Question 2\n",
      "Your answer : 1976\n",
      "Good job! This is the right answer\n",
      "\n",
      "Question 3\n",
      "Your answer : Elon Musk\n",
      "Good job! This is the right answer\n",
      "\n",
      "Well done! You are the quiz winner!\n"
     ]
    }
   ],
   "source": [
    "quizz()"
   ]
  },
  {
   "cell_type": "markdown",
   "metadata": {
    "colab_type": "text",
    "id": "nh4voWn8x3dM"
   },
   "source": [
    "Now, we would like to tackle a last problem : we want to allow only 3 wrong answers (among all questions).\n",
    "\n",
    "7. Improve your code : if the user makes 3 wrong answers, the program should stop and print (\"Too bad, you lost the game !\")\n"
   ]
  },
  {
   "cell_type": "code",
   "execution_count": null,
   "metadata": {
    "colab": {
     "base_uri": "https://localhost:8080/",
     "height": 170
    },
    "colab_type": "code",
    "id": "adKPQe1Hsi2g",
    "outputId": "45d36fc8-90ae-4f00-b73a-73b1e6e57e6e",
    "tags": []
   },
   "outputs": [],
   "source": [
    "def quizz():\n",
    "    \n",
    "    print(\"Welcome to our quizz!\")\n",
    "    print(\"You have 3 lives.\")\n",
    "\n",
    "    quizz={\n",
    "        \"Quelle est la réponse à la grande question sur la vie, l'univers et le reste ?\" : 42,\n",
    "        \"Quelle est l'année de naissance de Ryan Reynolds ?\" : 1976,\n",
    "        \"Quel est le fondateur de la société Neuralink ?\" : \"elon musk\"\n",
    "        }\n",
    "    \n",
    "    i = 1\n",
    "    lives =3\n",
    "\n",
    "    for k,v in quizz.items():            \n",
    "        print(f\"\\nQuestion {i}:\")\n",
    "        answer = ''\n",
    "        while answer != v:\n",
    "            if lives == 0:\n",
    "                print(\"Oh no, you lost the quiz...\")\n",
    "                return\n",
    "            try:\n",
    "                answer = input(k)\n",
    "                print(f\"Your answer : {answer}\")\n",
    "                answer = int(answer)\n",
    "            except ValueError:\n",
    "                if isinstance(answer, str):\n",
    "                    answer = answer.lower()\n",
    "            finally:    \n",
    "                if answer != v:\n",
    "                    lives -= 1\n",
    "                    print(f\"Sorry, you have {lives} {'chance' if lives <= 1 else 'chances'} left\")                                     \n",
    "        i += 1\n",
    "\n",
    "    print(\"\\nWell done! You are the quiz winner!\")\n"
   ]
  },
  {
   "cell_type": "code",
   "execution_count": 11,
   "metadata": {
    "colab": {},
    "colab_type": "code",
    "id": "rA-XJKh-orgc"
   },
   "outputs": [
    {
     "name": "stdout",
     "output_type": "stream",
     "text": [
      "Welcome to our quizz!\n",
      "You have 3 lives.\n",
      "\n",
      "Question 1:\n",
      "Your answer : 3\n",
      "Sorry, you have 2 chances left\n",
      "Your answer : 42\n",
      "\n",
      "Question 2:\n",
      "Your answer : 1980\n",
      "Sorry, you have 1 chance left\n",
      "Your answer : 1976\n",
      "\n",
      "Question 3:\n",
      "Your answer : Steve Jobs\n",
      "Sorry, you have 0 chance left\n",
      "Oh no, you lost the quiz...\n"
     ]
    }
   ],
   "source": [
    "quizz()"
   ]
  }
 ],
 "metadata": {
  "colab": {
   "name": "Construire un quiz - SOLUTIONS S1-1A.ipynb",
   "provenance": []
  },
  "kernelspec": {
   "display_name": "Python 3",
   "language": "python",
   "name": "python3"
  },
  "language_info": {
   "codemirror_mode": {
    "name": "ipython",
    "version": 3
   },
   "file_extension": ".py",
   "mimetype": "text/x-python",
   "name": "python",
   "nbconvert_exporter": "python",
   "pygments_lexer": "ipython3",
   "version": "3.12.9"
  }
 },
 "nbformat": 4,
 "nbformat_minor": 1
}
