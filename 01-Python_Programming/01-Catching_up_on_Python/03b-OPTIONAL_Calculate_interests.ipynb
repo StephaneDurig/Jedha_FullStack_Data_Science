{
  "cells": [
    {
      "cell_type": "markdown",
      "metadata": {
        "colab_type": "text",
        "id": "1NCGks54kp_n"
      },
      "source": [
        "# How much do you get for your savings ?"
      ]
    },
    {
      "cell_type": "markdown",
      "metadata": {
        "colab_type": "text",
        "id": "75Xe4f7vksGZ"
      },
      "source": [
        "It is said that if Christopher Columbus had set aside €1 that he had left at 2% interest per year, today his heirs would no longer need to work to live their lives. Let's try to calculate the same thing for our savings. "
      ]
    },
    {
      "cell_type": "markdown",
      "metadata": {
        "colab_type": "text",
        "id": "v4ugjwIakv2c"
      },
      "source": [
        "1. So let's create a function that will allow us to know how much money a user will have in total after a certain number of years.\n",
        "\n",
        "2. The user should be able to call the function which will then ask for :\n",
        "\n",
        "    1. The total amount he wishes to place\n",
        "    2. The number of years he wants to invest his money for\n",
        "    3. The rate of interest to which he is entitled\n",
        "    \n",
        "3. Pay attention to the errors that the user may enter.\n",
        "\n",
        "    4. If he enters a string of characters rather than a number, an error should be displayed.\n",
        "    5. If the user enters negative numbers, an error should also be output.\n",
        "    6. Finally, it is very likely that the user will write the interest rate as a percentage (e.g. 10%). Raise an error if this is the case, to prevent him from inputting a percentage.\n",
        "    \n",
        "4. Finally, the program should only show one number with a maximum of two digits after the decimal point.\n"
      ]
    },
    {
      "cell_type": "code",
      "execution_count": 6,
      "metadata": {
        "colab": {
          "base_uri": "https://localhost:8080/",
          "height": 173
        },
        "colab_type": "code",
        "id": "ovkcocqXkp2k",
        "outputId": "c6b46d9b-3503-4490-f19a-4a7e35194eea"
      },
      "outputs": [],
      "source": [
        "def savings_calculate():  \n",
        "    try:\n",
        "        amount_to_place = float(input('The total amount you wishe to place'))\n",
        "        number_of_years = int(input('The number of years you want to invest his money for'))\n",
        "        rate_of_interest = input('The rate of interest to which you are entitled (e.g. 0.1 for 10%)')\n",
        "\n",
        "        if \"%\" in str(rate_of_interest):\n",
        "            raise ValueError('percent symbol')\n",
        "        \n",
        "        rate_of_interest = float(rate_of_interest)\n",
        "       \n",
        "        if (amount_to_place < 0) or (number_of_years < 0):\n",
        "            raise ValueError('negative value')\n",
        "         \n",
        "        total_amount = amount_to_place * (1 + rate_of_interest) ** number_of_years\n",
        "\n",
        "    except ValueError as e:\n",
        "        if str(e) == 'percent symbol':\n",
        "           print(\"% sign is not allowed, you must enter a float value (e.g. 0.1 for 10%).\")\n",
        "        elif str(e) == 'negative value':\n",
        "            print('Please recall the function and only give positives numbers.')\n",
        "        else:\n",
        "            print('Invalid input. Make sure all entries are numbers in the correct format.')\n",
        "        \n",
        "    else:\n",
        "        print(f\"The total amount of money you will have after you deposit {amount_to_place} at the end of {number_of_years} years will be {round(total_amount,2)} €.\") "
      ]
    },
    {
      "cell_type": "code",
      "execution_count": 7,
      "metadata": {
        "colab": {},
        "colab_type": "code",
        "id": "K_2poSknltX4",
        "tags": []
      },
      "outputs": [
        {
          "name": "stdout",
          "output_type": "stream",
          "text": [
            "Please recall the function and only give positives numbers.\n"
          ]
        }
      ],
      "source": [
        "savings_calculate()"
      ]
    },
    {
      "cell_type": "code",
      "execution_count": null,
      "metadata": {},
      "outputs": [
        {
          "name": "stdout",
          "output_type": "stream",
          "text": [
            "\n",
            "-----------------\n",
            " CALCUL ÉPARGNE : \n",
            "-----------------\n",
            "\n",
            "Montant : 1000.0 €\n",
            "Durée : 10 an(s)\n",
            "taux : 10.0 %\n",
            "\n",
            "------------\n",
            " RÉSULTATS : \n",
            "------------\n",
            "\n",
            "Le montant total de votre épargne en plaçant 1000.0 € à 10.0 % pendant 10 ans est de : 2593.74 € \n",
            " \n"
          ]
        }
      ],
      "source": [
        "# Programme ne passant à la valeur d'après que si la précédente est juste\n",
        "\n",
        "def montant_epargne():\n",
        "    try:\n",
        "        montant = float(input('Quel montant souhaitez-vous épargner (en €) ?\\n'))\n",
        "\n",
        "        if montant < 0:\n",
        "            raise ValueError('Montant négatif')        \n",
        "    except ValueError as e:\n",
        "            if str(e) == 'Montant négatif':\n",
        "                print(f\"{e} ! Veuillez saisir un montant positif !\")\n",
        "            else:\n",
        "                print(type(e).__name__,'! Veuillez saisir un nombre pour le montant !')\n",
        "            return montant_epargne()\n",
        "    else:\n",
        "        print(f\"Montant : {montant} €\")\n",
        "        return montant\n",
        "\n",
        "def duree_epargne():\n",
        "    try:\n",
        "        duree = int(input('Sur quelle durée souhaitez-vous épargner (en année) ?\\n'))\n",
        "\n",
        "        if duree < 0:\n",
        "            raise ValueError('Durée négative')\n",
        "\n",
        "    except ValueError as e:\n",
        "            if str(e) == 'Durée négative':\n",
        "                print(f\"{e} ! Veuillez saisir une durée positive !\")\n",
        "            else:\n",
        "                print(type(e).__name__,'! Veuillez saisir un nombre entier pour la durée !')\n",
        "            return duree_epargne()\n",
        "    else:\n",
        "        print(f\"Durée : {duree} an(s)\")\n",
        "        return duree\n",
        "\n",
        "def taux_epargne():\n",
        "    try:\n",
        "        taux = input('Quel est le taux de votre épargne (e.g. 0.1 pour 10 %) ?\\n')\n",
        "        if \"%\" in taux:\n",
        "            raise ValueError(\"Sigle '%' non autorisé\")\n",
        "        taux = float(taux)\n",
        "\n",
        "        if taux < 0:\n",
        "            raise ValueError('Taux négatif')\n",
        "\n",
        "    except ValueError as e:\n",
        "        if str(e) == \"Sigle '%' non autorisé\":\n",
        "            print(f\"{e} ! Veuillez saisir un nombre (e.g. 0.1 pour 10 %) !\")\n",
        "        elif str(e) == 'Taux négatif':\n",
        "            print(f\"{e} ! Veuillez saisir un taux positif !\")\n",
        "        else:\n",
        "            print(type(e).__name__,'! Veuillez saisir un nombre pour le taux !')\n",
        "        return taux_epargne()\n",
        "\n",
        "    else:\n",
        "        print(f\"taux : {taux*100} %\")\n",
        "        return taux\n",
        "    \n",
        "# Programme Principal\n",
        "\n",
        "if __name__== '__main__':\n",
        "    try:\n",
        "        print(f\"\\n{17*'-'}\\n CALCUL ÉPARGNE : \\n{17*'-'}\\n\")\n",
        "\n",
        "        montant_saisit = montant_epargne()\n",
        "        duree_saisie = duree_epargne()\n",
        "        taux_saisit = taux_epargne()\n",
        "       \n",
        "        montant_total = montant_saisit * (1 + taux_saisit) ** duree_saisie\n",
        "\n",
        "        print(f\"\\n{12*'-'}\\n RÉSULTATS : \\n{12*'-'}\\n\")\n",
        "        print(f'Le montant total de votre épargne en plaçant {montant_saisit} € à {taux_saisit*100} % pendant {duree_saisie} ans est de : {round(montant_total,2)} € \\n ') \n",
        "\n",
        "    except Exception as e:\n",
        "        print(f'{e}')"
      ]
    }
  ],
  "metadata": {
    "colab": {
      "name": "Fondamentaux Python - Mini Projets S1-2B.ipynb",
      "provenance": [],
      "version": "0.3.2"
    },
    "kernelspec": {
      "display_name": "Python 3",
      "name": "python3"
    },
    "language_info": {
      "codemirror_mode": {
        "name": "ipython",
        "version": 3
      },
      "file_extension": ".py",
      "mimetype": "text/x-python",
      "name": "python",
      "nbconvert_exporter": "python",
      "pygments_lexer": "ipython3",
      "version": "3.12.9"
    }
  },
  "nbformat": 4,
  "nbformat_minor": 0
}
