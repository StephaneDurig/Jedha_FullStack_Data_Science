{
 "cells": [
  {
   "cell_type": "markdown",
   "metadata": {
    "colab_type": "text",
    "id": "kFGKKN4vbaaE"
   },
   "source": [
    "# Lists"
   ]
  },
  {
   "cell_type": "markdown",
   "metadata": {
    "colab_type": "text",
    "id": "UlVSgMBObdHP"
   },
   "source": [
    "Here is a list [\"Hello\", \"I\", \"Michel\", \"am\"]\n",
    "\n",
    "1. Store this list in a variable we'll call michel\n",
    "2. Make a loop so that the console returns each of the items in the list"
   ]
  },
  {
   "cell_type": "code",
   "execution_count": 1,
   "metadata": {
    "colab": {
     "base_uri": "https://localhost:8080/",
     "height": 88
    },
    "colab_type": "code",
    "id": "RnQP07OQbJZy",
    "outputId": "e4a60cd9-35dc-49d8-e0e4-e66e7db017e7"
   },
   "outputs": [
    {
     "name": "stdout",
     "output_type": "stream",
     "text": [
      "Hello\n",
      "I\n",
      "Michel\n",
      "am\n"
     ]
    }
   ],
   "source": [
    "michel = [\"Hello\", \"I\", \"Michel\", \"am\"]\n",
    "\n",
    "for item in michel:\n",
    "    print(item)"
   ]
  },
  {
   "cell_type": "markdown",
   "metadata": {
    "colab_type": "text",
    "id": "xiFEi_IIbs7l"
   },
   "source": [
    "We have a problem with this sentence, two words are reversed. Find a way to invert the last item with the next-to-last item..."
   ]
  },
  {
   "cell_type": "code",
   "execution_count": 7,
   "metadata": {
    "colab": {
     "base_uri": "https://localhost:8080/",
     "height": 88
    },
    "colab_type": "code",
    "id": "fBz1VsYDbv-m",
    "outputId": "6e6e00c3-edac-4960-e65b-d76d39143d1e"
   },
   "outputs": [
    {
     "name": "stdout",
     "output_type": "stream",
     "text": [
      "Hello\n",
      "I\n",
      "am\n",
      "Michel\n"
     ]
    }
   ],
   "source": [
    "a=michel.pop(3)\n",
    "michel.insert(2,a)\n",
    "\n",
    "for item in michel:\n",
    "    print(item)"
   ]
  },
  {
   "cell_type": "markdown",
   "metadata": {
    "colab_type": "text",
    "id": "hrZ1HLVneoRC"
   },
   "source": [
    "Here's a list of ages: [12, 16, 34, 58, 9].\n",
    "\n",
    "1. Store this age list in a variable that we'll call: \n",
    "\n",
    "```\n",
    "age\n",
    "```\n",
    "\n",
    "2. We would like this list to be arranged in ascending order, how do we do that?"
   ]
  },
  {
   "cell_type": "code",
   "execution_count": 10,
   "metadata": {
    "colab": {
     "base_uri": "https://localhost:8080/",
     "height": 34
    },
    "colab_type": "code",
    "id": "vRrlfGsQb0TA",
    "outputId": "6f19757d-d294-4a9f-c150-9bb2ca06c481"
   },
   "outputs": [
    {
     "name": "stdout",
     "output_type": "stream",
     "text": [
      "[9, 12, 16, 34, 58]\n"
     ]
    }
   ],
   "source": [
    "age = [12, 16, 34, 58, 9]\n",
    "sorted_list = sorted(age)\n",
    "print(sorted_list)"
   ]
  },
  {
   "cell_type": "markdown",
   "metadata": {
    "colab_type": "text",
    "id": "hyAAuD2-fFMD"
   },
   "source": [
    "# Dictionaries"
   ]
  },
  {
   "cell_type": "markdown",
   "metadata": {
    "colab_type": "text",
    "id": "3-kpKLpmfKGM"
   },
   "source": [
    "We told you that dictionaries are very useful with APIs, so let's try to use the Star Wars API.\n",
    "\n",
    "1. In your text editor, write:\n",
    "\n",
    "```\n",
    "import requests\n",
    "request = requests.get(\"https://swapi.dev/api/people/1/\")\n",
    "dic = request.json()\n",
    "```\n",
    "\n",
    "2. This will make it possible to call the Star Wars API to store it on a dictionary format in a variable called _dic_.\n",
    "\n",
    "3. See what's in the dictionary via a loop\n",
    "\n",
    "4. We'd like to make a nice phrase to describe the character like this: \n",
    "\n",
    "`“{{name}} is {{height}} cm tall and weighs {{mass}} kg. He was born in {{birth_year}}”`\n"
   ]
  },
  {
   "cell_type": "code",
   "execution_count": 17,
   "metadata": {},
   "outputs": [
    {
     "name": "stdout",
     "output_type": "stream",
     "text": [
      "Requirement already satisfied: pip in c:\\users\\capit\\appdata\\local\\programs\\python\\python312\\lib\\site-packages (24.3.1)\n",
      "Collecting pip\n",
      "  Using cached pip-25.0.1-py3-none-any.whl.metadata (3.7 kB)\n",
      "Using cached pip-25.0.1-py3-none-any.whl (1.8 MB)\n",
      "Installing collected packages: pip\n",
      "  Attempting uninstall: pip\n",
      "    Found existing installation: pip 24.3.1\n",
      "    Uninstalling pip-24.3.1:\n",
      "      Successfully uninstalled pip-24.3.1\n",
      "Successfully installed pip-25.0.1\n"
     ]
    },
    {
     "name": "stderr",
     "output_type": "stream",
     "text": [
      "  WARNING: The scripts pip.exe, pip3.12.exe and pip3.exe are installed in 'c:\\Users\\capit\\AppData\\Local\\Programs\\Python\\Python312\\Scripts' which is not on PATH.\n",
      "  Consider adding this directory to PATH or, if you prefer to suppress this warning, use --no-warn-script-location.\n"
     ]
    }
   ],
   "source": [
    "!python -m pip install --upgrade pip"
   ]
  },
  {
   "cell_type": "code",
   "execution_count": 14,
   "metadata": {},
   "outputs": [
    {
     "name": "stdout",
     "output_type": "stream",
     "text": [
      "Collecting requests\n",
      "  Downloading requests-2.32.3-py3-none-any.whl.metadata (4.6 kB)\n",
      "Collecting charset-normalizer<4,>=2 (from requests)\n",
      "  Downloading charset_normalizer-3.4.1-cp312-cp312-win_amd64.whl.metadata (36 kB)\n",
      "Collecting idna<4,>=2.5 (from requests)\n",
      "  Downloading idna-3.10-py3-none-any.whl.metadata (10 kB)\n",
      "Collecting urllib3<3,>=1.21.1 (from requests)\n",
      "  Downloading urllib3-2.3.0-py3-none-any.whl.metadata (6.5 kB)\n",
      "Collecting certifi>=2017.4.17 (from requests)\n",
      "  Downloading certifi-2025.1.31-py3-none-any.whl.metadata (2.5 kB)\n",
      "Downloading requests-2.32.3-py3-none-any.whl (64 kB)\n",
      "Downloading certifi-2025.1.31-py3-none-any.whl (166 kB)\n",
      "Downloading charset_normalizer-3.4.1-cp312-cp312-win_amd64.whl (102 kB)\n",
      "Downloading idna-3.10-py3-none-any.whl (70 kB)\n",
      "Downloading urllib3-2.3.0-py3-none-any.whl (128 kB)\n",
      "Installing collected packages: urllib3, idna, charset-normalizer, certifi, requests\n",
      "Successfully installed certifi-2025.1.31 charset-normalizer-3.4.1 idna-3.10 requests-2.32.3 urllib3-2.3.0\n"
     ]
    },
    {
     "name": "stderr",
     "output_type": "stream",
     "text": [
      "  WARNING: The script normalizer.exe is installed in 'c:\\Users\\capit\\AppData\\Local\\Programs\\Python\\Python312\\Scripts' which is not on PATH.\n",
      "  Consider adding this directory to PATH or, if you prefer to suppress this warning, use --no-warn-script-location.\n",
      "\n",
      "[notice] A new release of pip is available: 24.3.1 -> 25.0.1\n",
      "[notice] To update, run: python.exe -m pip install --upgrade pip\n"
     ]
    }
   ],
   "source": [
    "!python -m pip install requests\n"
   ]
  },
  {
   "cell_type": "code",
   "execution_count": 18,
   "metadata": {
    "colab": {
     "base_uri": "https://localhost:8080/",
     "height": 35
    },
    "colab_type": "code",
    "id": "Ef9wS-ule6Rs",
    "outputId": "9b99d534-01ae-46b4-b226-3bda2a197ef6"
   },
   "outputs": [],
   "source": [
    "import requests\n",
    "request = requests.get(\"https://swapi.dev/api/people/1/\")\n",
    "dic = request.json()"
   ]
  },
  {
   "cell_type": "code",
   "execution_count": 20,
   "metadata": {},
   "outputs": [
    {
     "name": "stdout",
     "output_type": "stream",
     "text": [
      "('name', 'Luke Skywalker')\n",
      "('height', '172')\n",
      "('mass', '77')\n",
      "('hair_color', 'blond')\n",
      "('skin_color', 'fair')\n",
      "('eye_color', 'blue')\n",
      "('birth_year', '19BBY')\n",
      "('gender', 'male')\n",
      "('homeworld', 'https://swapi.dev/api/planets/1/')\n",
      "('films', ['https://swapi.dev/api/films/1/', 'https://swapi.dev/api/films/2/', 'https://swapi.dev/api/films/3/', 'https://swapi.dev/api/films/6/'])\n",
      "('species', [])\n",
      "('vehicles', ['https://swapi.dev/api/vehicles/14/', 'https://swapi.dev/api/vehicles/30/'])\n",
      "('starships', ['https://swapi.dev/api/starships/12/', 'https://swapi.dev/api/starships/22/'])\n",
      "('created', '2014-12-09T13:50:51.644000Z')\n",
      "('edited', '2014-12-20T21:17:56.891000Z')\n",
      "('url', 'https://swapi.dev/api/people/1/')\n"
     ]
    }
   ],
   "source": [
    "for item in dic.items():\n",
    "    print(item)\n"
   ]
  },
  {
   "cell_type": "code",
   "execution_count": 30,
   "metadata": {},
   "outputs": [
    {
     "name": "stdout",
     "output_type": "stream",
     "text": [
      "Luke Skywalker is 172 cm tall and weighs 77 kg. He was born in 19BBY\n"
     ]
    }
   ],
   "source": [
    "print(f\"{dic['name']} is {dic['height']} cm tall and weighs {dic['mass']} kg. He was born in {dic['birth_year']}\")"
   ]
  },
  {
   "cell_type": "code",
   "execution_count": 2,
   "metadata": {
    "colab": {
     "base_uri": "https://localhost:8080/",
     "height": 34
    },
    "colab_type": "code",
    "id": "0AWON7CZf_aI",
    "outputId": "8ad3784a-0d9e-4a5a-ef05-9050de332da1"
   },
   "outputs": [
    {
     "name": "stdout",
     "output_type": "stream",
     "text": [
      "Leia Organa is 150 cm tall and weighs 49 kg. She was born in 19BBY\n"
     ]
    }
   ],
   "source": [
    "import requests\n",
    "request = requests.get(\"https://swapi.dev/api/people/5/\")\n",
    "dic = request.json()\n",
    "\n",
    "if dic['gender'] =='male':\n",
    "    print(f\"{dic['name']} is {dic['height']} cm tall and weighs {dic['mass']} kg. He was born in {dic['birth_year']}\")\n",
    "else :\n",
    "    print(f\"{dic['name']} is {dic['height']} cm tall and weighs {dic['mass']} kg. She was born in {dic['birth_year']}\")"
   ]
  },
  {
   "cell_type": "markdown",
   "metadata": {
    "colab_type": "text",
    "id": "aQsKk1BKg4Mt"
   },
   "source": [
    "# Slices"
   ]
  },
  {
   "cell_type": "markdown",
   "metadata": {
    "colab_type": "text",
    "id": "0PIM5zcfg94N"
   },
   "source": [
    "We have the following dataset: `kilometres_travelled = [50, 10, 100, 25, 1000, 21, 12,30]`.\n",
    " \n",
    "1. This variable represents a list of kilometres travelled every morning by 8 users to work.\n",
    "2. Using a loop, calculate the total average of all the users' trips\n",
    "3. Is this average representative of what all individuals really go through? Why do you think so?"
   ]
  },
  {
   "cell_type": "code",
   "execution_count": 63,
   "metadata": {},
   "outputs": [
    {
     "name": "stdout",
     "output_type": "stream",
     "text": [
      "On average, users travelled 156.0 km to get to work.\n"
     ]
    }
   ],
   "source": [
    "kilometres_travelled = [50, 10, 100, 25, 1000, 21, 12,30]\n",
    "total_travel=0\n",
    "\n",
    "for i in kilometres_travelled:\n",
    "    total_travel += i\n",
    "\n",
    "average_distance = total_travel/8\n",
    "\n",
    "print(f\"On average, users travelled {average_distance} km to get to work.\")"
   ]
  },
  {
   "cell_type": "markdown",
   "metadata": {
    "colab_type": "text",
    "id": "VL5vB43YhJV5"
   },
   "source": [
    "4. Change the variable kilometers_travelled to have a more representative average\n"
   ]
  },
  {
   "cell_type": "code",
   "execution_count": 66,
   "metadata": {},
   "outputs": [
    {
     "name": "stdout",
     "output_type": "stream",
     "text": [
      "On average, users travelled 35.42857142857143 km to get to work.\n"
     ]
    }
   ],
   "source": [
    "kilometres_travelled = [50, 10, 100, 25, 1000, 21, 12,30]\n",
    "\n",
    "# Suppression de '1000' qui est une valeur aberrante\n",
    "kilometres_travelled.remove(1000)\n",
    "\n",
    "#Nouveau calcul\n",
    "total_travel=0\n",
    "for i in kilometres_travelled:\n",
    "    total_travel += i\n",
    "\n",
    "average_distance = total_travel/7\n",
    "\n",
    "print(f\"On average, users travelled {average_distance} km to get to work.\")"
   ]
  }
 ],
 "metadata": {
  "colab": {
   "collapsed_sections": [],
   "name": "Manipuler des collections de données - SOLUTIONS S1-2A.ipynb",
   "provenance": []
  },
  "kernelspec": {
   "display_name": "Python 3",
   "language": "python",
   "name": "python3"
  },
  "language_info": {
   "codemirror_mode": {
    "name": "ipython",
    "version": 3
   },
   "file_extension": ".py",
   "mimetype": "text/x-python",
   "name": "python",
   "nbconvert_exporter": "python",
   "pygments_lexer": "ipython3",
   "version": "3.12.9"
  }
 },
 "nbformat": 4,
 "nbformat_minor": 1
}
