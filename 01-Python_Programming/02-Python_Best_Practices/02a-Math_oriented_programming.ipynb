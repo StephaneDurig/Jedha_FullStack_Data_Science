{
  "cells": [
    {
      "cell_type": "markdown",
      "metadata": {
        "colab_type": "text",
        "id": "ARXMbV_Vp5qc"
      },
      "source": [
        "# Mathematically Oriented Programming"
      ]
    },
    {
      "cell_type": "markdown",
      "metadata": {
        "colab_type": "text",
        "id": "1JYqlALqp73y"
      },
      "source": [
        "_Mathematics, in general, we don't like to do it. Especially when it involves repeating operations, over and over again. Let's be real lazy and create a class that will do the operations we want for us._"
      ]
    },
    {
      "cell_type": "markdown",
      "metadata": {
        "colab_type": "text",
        "id": "Lc3ol0PSp98l"
      },
      "source": [
        "1. _Create a class to be called \"math.\"_\n",
        "2. _This class will have no internal attributes, so you don't need to define an init() _\n",
        "3. _Create a method that will compute the square root of any number._\n",
        "4. _Create a method that will calculate the average of any list of numbers._\n",
        "5. _Create a method to find out if a number is even or odd_.\n",
        "6. _Finally, create a method that will give the total sum of a list of numbers._\n"
      ]
    },
    {
      "cell_type": "code",
      "execution_count": 1,
      "metadata": {},
      "outputs": [],
      "source": [
        "class math():\n",
        "    def square(self, number):      \n",
        "        result = number**0.5\n",
        "        print(f\"The square root of {number} is {result}\")\n",
        "\n",
        "    def odd_or_not(self,number):\n",
        "        if number%2 == 1:\n",
        "            result = 'odd'\n",
        "        else:\n",
        "            result = 'even'\n",
        "        print(f\"{number} is {result}\")\n",
        "\n",
        "    \n",
        "    def average(self, numbers):\n",
        "        avg =sum(numbers)/len(numbers)\n",
        "\n",
        "        if len(numbers) == 1 :\n",
        "            liste_nb = str(numbers[0])\n",
        "        elif len(numbers) ==2 :\n",
        "            liste_nb = f\"{numbers[0]} +' et '+ {numbers[1]}\"\n",
        "        else:\n",
        "            # 's' est le séparateur utilisé entre les nombres\n",
        "            s = ', '\n",
        "            # On parcourt tous les éléments de la liste sauf le dernier (numbers[:-1])\n",
        "            # Pour chacun, on le convertit en chaîne avec str(n)\n",
        "            # Puis on les rejoint tous avec le séparateur 's' pour former une partie de la phrase\n",
        "            liste_nb = s.join(str(n) for n in numbers[:-1]) \n",
        "            # On ajoute le dernier élément de la liste (numbers[-1]) précédé de \"and\"\n",
        "            # Cela permet d’avoir un format comme : \"10, 20, 30 and 40\"\n",
        "            liste_nb = liste_nb + f\" and {numbers[-1]}\"\n",
        "\n",
        "        print(f\"The average of {liste_nb} is {round(avg,2)}\")\n",
        "\n",
        "    def total_sum(seld,numbers):\n",
        "        result = sum(numbers)\n",
        "\n",
        "        if len(numbers) == 1 :\n",
        "            liste_nb = str(numbers[0])\n",
        "        elif len(numbers) ==2 :\n",
        "            liste_nb = f\"{numbers[0]} +' et '+ {numbers[1]}\"\n",
        "        else:\n",
        "            # 's' est le séparateur utilisé entre les nombres\n",
        "            s = ', '\n",
        "            # On parcourt tous les éléments de la liste sauf le dernier (numbers[:-1])\n",
        "            # Pour chacun, on le convertit en chaîne avec str(n)\n",
        "            # Puis on les rejoint tous avec le séparateur 's' pour former une partie de la phrase\n",
        "            liste_nb = s.join(str(n) for n in numbers[:-1]) \n",
        "            # On ajoute le dernier élément de la liste (numbers[-1]) précédé de \"and\"\n",
        "            # Cela permet d’avoir un format comme : \"10, 20, 30 and 40\"\n",
        "            liste_nb = liste_nb + f\" and {numbers[-1]}\"\n",
        "        \n",
        "        print(f\"The sum of {liste_nb} is {result}\")"
      ]
    },
    {
      "cell_type": "code",
      "execution_count": 2,
      "metadata": {},
      "outputs": [
        {
          "name": "stdout",
          "output_type": "stream",
          "text": [
            "The square root of 9 is 3.0\n",
            "The average of 10, 30, 20 and 10 is 17.5\n",
            "4 is even\n",
            "11 is odd\n",
            "The sum of 10, 30, 10, 40 and 20 is 110\n"
          ]
        }
      ],
      "source": [
        "m = math()\n",
        "m.square(9)\n",
        "m.average([10,30,20,10])\n",
        "m.odd_or_not(4)\n",
        "m.odd_or_not(11)\n",
        "m.total_sum([10,30,10,40,20])"
      ]
    }
  ],
  "metadata": {
    "colab": {
      "name": "Programmation Orientée Mathématiques - Exercice S1-3.ipynb",
      "provenance": [],
      "version": "0.3.2"
    },
    "kernelspec": {
      "display_name": "Python 3",
      "name": "python3"
    },
    "language_info": {
      "codemirror_mode": {
        "name": "ipython",
        "version": 3
      },
      "file_extension": ".py",
      "mimetype": "text/x-python",
      "name": "python",
      "nbconvert_exporter": "python",
      "pygments_lexer": "ipython3",
      "version": "3.12.9"
    }
  },
  "nbformat": 4,
  "nbformat_minor": 0
}
