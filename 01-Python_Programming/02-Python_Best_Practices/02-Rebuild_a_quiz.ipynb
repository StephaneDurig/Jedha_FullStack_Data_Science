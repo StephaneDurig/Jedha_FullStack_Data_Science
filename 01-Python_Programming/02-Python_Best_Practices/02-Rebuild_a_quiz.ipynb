{
 "cells": [
  {
   "cell_type": "markdown",
   "metadata": {},
   "source": [
    "# Build a quiz - Part 2"
   ]
  },
  {
   "cell_type": "markdown",
   "metadata": {},
   "source": [
    "Below is the code we wrote yesterday, that asks three questions to the user and allows up to 3 wrong answers :"
   ]
  },
  {
   "cell_type": "code",
   "execution_count": null,
   "metadata": {},
   "outputs": [],
   "source": [
    "nb_de_chances = 3\n",
    "\n",
    "print(\"Voici notre quiz, tu as trois chances !\")\n",
    "\n",
    "if nb_de_chances > 0:\n",
    "    question1= input(\"Combien de fois la France a gagné la coupe du monde ? \")\n",
    "    while question1 != \"2\":\n",
    "        nb_de_chances -= 1\n",
    "        print(\"Dommage ! Il te reste {} chances\".format(nb_de_chances))\n",
    "        if nb_de_chances == 0:\n",
    "            print(\"Oh non ! Tu as perdu le jeu...\")\n",
    "            break\n",
    "        question1 = input(\"Combien de fois la France a gagné la coupe du monde ? \")\n",
    "\n",
    "if nb_de_chances > 0:\n",
    "    question2 = input(\"Quand a été fondé Apple ? \")\n",
    "    while question2 != \"1976\":\n",
    "        nb_de_chances -=1\n",
    "        print(\"Dommage ! Il te reste {} chances\".format(nb_de_chances))\n",
    "        if nb_de_chances == 0:\n",
    "            print(\"Oh non ! Tu as perdu le jeu...\")\n",
    "            break\n",
    "        question2 = input(\"Quand a été fondé Apple ? \")\n",
    "\n",
    "\n",
    "if nb_de_chances > 0:\n",
    "    question3 = input(\"Qui a fondé SpaceX ? \")\n",
    "    question3 = question3.lower()\n",
    "    while question3 != \"elon musk\":\n",
    "        nb_de_chances -=1\n",
    "        print(\"Dommage ! Il te reste {} chances\".format(nb_de_chances))\n",
    "        if nb_de_chances == 0:\n",
    "            print(\"Oh non ! Tu as perdu le jeu...\")\n",
    "            break\n",
    "        question3 = input(\"Qui a fondé SpaceX ? \")\n",
    "        question3 = question3.lower()\n",
    "\n",
    "if nb_de_chances > 0:\n",
    "    print(\"Bravo ! Tu as gagné le quiz !\")\n"
   ]
  },
  {
   "cell_type": "markdown",
   "metadata": {},
   "source": [
    "Let's refactor our quiz now that we know how to be dry.\n",
    "\n",
    "SPECs: \n",
    "\n",
    "* Your code should be DRY \n",
    "* You should use functions "
   ]
  },
  {
   "cell_type": "code",
   "execution_count": 17,
   "metadata": {},
   "outputs": [],
   "source": [
    "def quizz():\n",
    "    \n",
    "    quizz={\n",
    "        \"Quelle est la réponse à la grande question sur la vie, l'univers et le reste ?\" : \"42\",\n",
    "        \"Quelle est l'année de naissance de Ryan Reynolds ?\" : \"1976\",\n",
    "        \"Quel est le fondateur de la société Neuralink ?\" : \"elon musk\"\n",
    "        }\n",
    "    \n",
    "    lives =3\n",
    "    \n",
    "    i = 1\n",
    "        \n",
    "    print(\"Welcome to our quizz!\")\n",
    "    print(f\"You have {lives} lives.\")\n",
    "\n",
    "    for k,v in quizz.items():            \n",
    "        print(f\"\\nQuestion {i}:\")\n",
    "        answer = ''\n",
    "        while answer != v:\n",
    "            if lives == 0:\n",
    "                print(\"Oh no, you lost the quiz...\")\n",
    "                return\n",
    "            try:\n",
    "                answer = input(k)\n",
    "                print(f\"Your answer : {answer}\")\n",
    "                answer = answer.lower()\n",
    "            except Exception as e:\n",
    "                print(e)       \n",
    "            else:    \n",
    "                if answer != v:\n",
    "                    lives -= 1\n",
    "                    print(f\"Sorry, you have {lives} {'chance' if lives <= 1 else 'chances'} left\")                                     \n",
    "        i += 1\n",
    "\n",
    "    print(\"\\nWell done! You are the quiz winner!\")"
   ]
  },
  {
   "cell_type": "code",
   "execution_count": 18,
   "metadata": {},
   "outputs": [
    {
     "name": "stdout",
     "output_type": "stream",
     "text": [
      "Welcome to our quizz!\n",
      "You have 3 lives.\n",
      "\n",
      "Question 1:\n",
      "Your answer : 42\n",
      "\n",
      "Question 2:\n",
      "Your answer : 1976\n",
      "\n",
      "Question 3:\n",
      "Your answer : Elon Musk\n",
      "\n",
      "Well done! You are the quiz winner!\n"
     ]
    }
   ],
   "source": [
    "quizz()"
   ]
  }
 ],
 "metadata": {
  "kernelspec": {
   "display_name": "Python 3",
   "language": "python",
   "name": "python3"
  },
  "language_info": {
   "codemirror_mode": {
    "name": "ipython",
    "version": 3
   },
   "file_extension": ".py",
   "mimetype": "text/x-python",
   "name": "python",
   "nbconvert_exporter": "python",
   "pygments_lexer": "ipython3",
   "version": "3.12.9"
  },
  "orig_nbformat": 2
 },
 "nbformat": 4,
 "nbformat_minor": 2
}
