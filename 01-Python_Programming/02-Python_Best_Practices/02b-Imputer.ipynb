{
  "cells": [
    {
      "cell_type": "markdown",
      "metadata": {
        "colab_type": "text",
        "id": "6cqYL_Y0rfoH"
      },
      "source": [
        "# Imputer"
      ]
    },
    {
      "cell_type": "markdown",
      "metadata": {
        "colab_type": "text",
        "id": "sB61JRG-rj6v"
      },
      "source": [
        "_In data science, it's common for there to be missing values in a dataset. Let's see how we can create a class that will allow us to replace this missing value by the average of the values in the list_"
      ]
    },
    {
      "cell_type": "markdown",
      "metadata": {
        "colab_type": "text",
        "id": "nvclKDGOrlV3"
      },
      "source": [
        "1. _Create a class that we will call Imputer_.\n",
        "2. _To simplify the exercise, we will only deal with lists for the moment._\n",
        "3. _Our class will take an attribute that we will call list_.\n",
        "4. _Create an avg() function that will first remove the missing value and then replace it with the average of the list._"
      ]
    },
    {
      "cell_type": "code",
      "execution_count": null,
      "metadata": {},
      "outputs": [],
      "source": [
        "class Imputer():\n",
        "    def __init__(self, list):\n",
        "        self.list = list\n",
        "\n",
        "    def avg(self):\n",
        "        print(f\"Here is a list : {self.list}\")\n",
        "        clean_list = [x for x in self.list if x is not None]\n",
        "        avg = sum(clean_list)/len(clean_list)\n",
        "        self.list = [x if x is not None else avg for x in self.list]\n",
        "        print(f\"Here is the list with the empty values replaced by the average value : {self.list}\")"
      ]
    },
    {
      "cell_type": "code",
      "execution_count": 9,
      "metadata": {},
      "outputs": [
        {
          "name": "stdout",
          "output_type": "stream",
          "text": [
            "Here is a list : [None, 2, 4, 6, None]\n",
            "Here is the list with the empty values replaced by the average value : [4.0, 2, 4, 6, 4.0]\n"
          ]
        }
      ],
      "source": [
        "i = Imputer([None,2,4,6,None])\n",
        "i.avg()"
      ]
    },
    {
      "cell_type": "markdown",
      "metadata": {
        "colab_type": "text",
        "id": "bc7K3aMYr9uH"
      },
      "source": [
        "# OPTIONAL - Improve Imputer\n",
        "\n",
        "_We have created our Imputer class which works very well for replacing missing values with averages. But, couldn't we also use this class to replace with a median? Try to add a method in Imputer that will allow us to replace the list with either the average or the median._"
      ]
    },
    {
      "cell_type": "code",
      "execution_count": 1,
      "metadata": {},
      "outputs": [],
      "source": [
        "class Imputer():\n",
        "    def __init__(self, list):\n",
        "        self.list = list\n",
        "\n",
        "    def avg(self):\n",
        "        print(f\"Here is a list : {self.list}\")\n",
        "        clean_list = [x for x in self.list if x is not None]\n",
        "        avg = sum(clean_list)/len(clean_list)\n",
        "        self.avglist = [x if x is not None else avg for x in self.list]\n",
        "        print(f\"Here is the list with the empty values replaced by the average value : {self.avglist}\")\n",
        "\n",
        "# En cours\n",
        "    def med(self):\n",
        "        print(f\"Here is a list : {self.list}\")\n",
        "        \n",
        "        clean_list = sorted([x for x in self.list if x is not None])\n",
        "        index = len(clean_list) // 2\n",
        "\n",
        "        if len(clean_list)%2 != 0:\n",
        "            med = clean_list[index]\n",
        "        else:\n",
        "            med = (clean_list[index - 1] + clean_list[index]) / 2\n",
        "\n",
        "        self.list = [x if x is not None else med for x in self.list]\n",
        "        print(f\"Here is the list with the empty values replaced by the median : {self.list}\")"
      ]
    },
    {
      "cell_type": "code",
      "execution_count": 2,
      "metadata": {},
      "outputs": [
        {
          "name": "stdout",
          "output_type": "stream",
          "text": [
            "Here is a list : [None, 2, 3, 12, 5, 6, None]\n",
            "Here is the list with the empty values replaced by the average value : [5.6, 2, 3, 12, 5, 6, 5.6]\n",
            "Here is a list : [None, 2, 3, 12, 5, 6, None]\n",
            "Here is the list with the empty values replaced by the median : [5, 2, 3, 12, 5, 6, 5]\n"
          ]
        }
      ],
      "source": [
        "i = Imputer([None, 2, 3, 12, 5, 6, None])\n",
        "i.avg()\n",
        "i.med()"
      ]
    }
  ],
  "metadata": {
    "colab": {
      "collapsed_sections": [],
      "name": "Imputer - Exercice S1-3.ipynb",
      "provenance": [],
      "version": "0.3.2"
    },
    "kernelspec": {
      "display_name": "Python 3",
      "name": "python3"
    },
    "language_info": {
      "codemirror_mode": {
        "name": "ipython",
        "version": 3
      },
      "file_extension": ".py",
      "mimetype": "text/x-python",
      "name": "python",
      "nbconvert_exporter": "python",
      "pygments_lexer": "ipython3",
      "version": "3.12.9"
    }
  },
  "nbformat": 4,
  "nbformat_minor": 0
}
